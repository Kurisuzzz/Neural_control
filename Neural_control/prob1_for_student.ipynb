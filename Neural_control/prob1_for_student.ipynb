{
 "cells": [
  {
   "cell_type": "code",
   "execution_count": 1,
   "metadata": {},
   "outputs": [],
   "source": [
    "import os\n",
    "import pickle\n",
    "import sys\n",
    "import h5py\n",
    "import torch\n",
    "import torch.nn as nn\n",
    "import torch.utils.data\n",
    "import torch.nn.functional as F\n",
    "from torch.autograd import Variable\n",
    "import numpy as np\n",
    "from tqdm import tnrange, tqdm_notebook\n",
    "\n",
    "# os.chdir('codes')\n",
    "import models\n",
    "import sklearn.metrics as metrics\n",
    "from PIL import Image\n",
    "\n",
    "import matplotlib.pyplot as plt\n",
    "import torchvision.transforms as transforms\n",
    "%matplotlib inline"
   ]
  },
  {
   "cell_type": "code",
   "execution_count": 1,
   "metadata": {},
   "outputs": [],
   "source": []
  },
  {
   "cell_type": "markdown",
   "metadata": {},
   "source": [
    "prepare data"
   ]
  },
  {
   "cell_type": "code",
   "execution_count": 2,
   "outputs": [
    {
     "name": "stdout",
     "output_type": "stream",
     "text": [
      "KeysView(<HDF5 file \"npc_v4_data.h5\" (mode r+)>)\n",
      "Datasets: [<HDF5 dataset \"readme\": shape (), type \"|O\">]\n"
     ]
    }
   ],
   "source": [
    "with h5py.File(os.path.join('./', 'npc_v4_data.h5')) as hf:\n",
    "    print(hf.keys())\n",
    "    print('Datasets:', [d for d in hf.values() if isinstance(d, h5py.Dataset)])"
   ],
   "metadata": {
    "collapsed": false
   }
  },
  {
   "cell_type": "code",
   "execution_count": 3,
   "metadata": {},
   "outputs": [
    {
     "name": "stdout",
     "output_type": "stream",
     "text": [
      "KeysView(<HDF5 file \"npc_v4_data.h5\" (mode r+)>)\n",
      "(36, 640, 52)\n",
      "img:  (640, 299, 299, 3)\n",
      "(640, 299, 299)\n",
      "(36, 640, 52)\n",
      "640 52 640\n",
      "images_n (640, 299, 299)\n",
      "(640, 299, 299, 3)\n",
      "<class 'numpy.ndarray'>\n",
      "(640, 299, 299, 3)\n",
      "data_x (640, 3, 299, 299)\n"
     ]
    }
   ],
   "source": [
    "# CHOOSE THE AUGMENTS IF NECESSARY\n",
    "device = 'cuda:0' # device where you put your data and models\n",
    "data_path = './' # the path of the 'npc_v4_data.h5' file\n",
    "batch_size = 50 # the batch size of the data loader\n",
    "insp_layer = 'conv3' # the middle layer extracted from alexnet, available in {'conv1', 'conv2', 'conv3', 'conv4', 'conv5'}\n",
    "\n",
    "\"\"\"\n",
    "The file npc_v4_data.h5 is structured in the following way:\n",
    "images: a tensor of shape [num_images, width, height, num_colors]\n",
    "neural data: a tensor of shape [num_repetitions, num_images, num_neurons]\n",
    "target indices: a list containing the indices of target neurons in data tensor\n",
    "For some animals the data is collected within two sessions that are indicated by session_x\n",
    "\"\"\"\n",
    "\n",
    "with h5py.File(os.path.join(data_path, 'npc_v4_data.h5')) as hf:\n",
    "    print(hf.keys())\n",
    "    images_n = np.array(hf['images']['naturalistic'])\n",
    "    neural_n = np.array(hf['neural']['naturalistic']['monkey_m']['stretch']['session_2'])\n",
    "\n",
    "print(neural_n.shape)\n",
    "n_images = neural_n.shape[1]\n",
    "n_neurons = neural_n.shape[2]\n",
    "size_imags = images_n.shape[0]\n",
    "\n",
    "img = np.zeros((images_n.shape[0], images_n[0].shape[0], images_n[0].shape[1], 3), dtype=np.uint8)\n",
    "for i in range(640):\n",
    "    rgb_img = np.zeros((images_n[i].shape[0], images_n[i].shape[1], 3), dtype=np.uint8)\n",
    "    rgb_img[:, :, 0] = images_n[i]\n",
    "    rgb_img[:, :, 1] = images_n[i]\n",
    "    rgb_img[:, :, 2] = images_n[i]\n",
    "    img[i] = rgb_img\n",
    "\n",
    "\n",
    "print('img: ', img.shape)\n",
    "# for data in images_n:\n",
    "#     plt.imshow(data)\n",
    "print(images_n.shape)\n",
    "print(neural_n.shape)\n",
    "print(n_images, n_neurons, size_imags)\n",
    "\n",
    "reps = neural_n.shape[0]\n",
    "rand_ind = np.arange(reps)\n",
    "np.random.shuffle(rand_ind)\n",
    "\n",
    "\n",
    "data_y_train = neural_n[:,:576].mean(0).astype(np.float32)\n",
    "data_y_val_origin = neural_n[:, 576:].astype(np.float32)\n",
    "data_y_val = data_y_val_origin.mean(0)\n",
    "\n",
    "#data_x = images_n[:, np.newaxis].astype(np.float32)\n",
    "data_x = img\n",
    "print('images_n', images_n.shape)\n",
    "print(data_x.shape)\n",
    "\n",
    "data_x = data_x / 255 # (640, 1, 299, 299)\n",
    "\n",
    "print(type(data_x))\n",
    "\n",
    "print(data_x.shape)\n",
    "#data_x = np.tile(data_x, [1, 3, 1, 1])\n",
    "data_x = np.transpose(data_x, (0, 3, 1, 2))\n",
    "print('data_x', data_x.shape)\n",
    "data_x_train = data_x[:576]\n",
    "data_x_val = data_x[576:]\n",
    "\n",
    "\n",
    "class Dataset(torch.utils.data.Dataset):\n",
    "    def __init__(self, data_x, data_y):\n",
    "        self.data_x = data_x\n",
    "        self.data_y = data_y\n",
    "    def __getitem__(self, index):\n",
    "        return self.data_x[index], self.data_y[index]\n",
    "    def __len__(self):\n",
    "        return self.data_x.shape[0]\n",
    "\n",
    "imagenet_mean = torch.tensor([0.485, 0.456, 0.406], dtype=torch.float32).view(1, 3, 1, 1).to(device)\n",
    "imagenet_std = torch.tensor([0.229, 0.224, 0.225], dtype=torch.float32).view(1, 3, 1, 1).to(device)\n",
    "transform = lambda x : (x - imagenet_mean) / imagenet_std\n",
    "\n",
    "dataset_train = Dataset(data_x_train, data_y_train)\n",
    "dataset_val = Dataset(data_x_val, data_y_val)\n",
    "\n",
    "loader_train = torch.utils.data.DataLoader(dataset_train, batch_size=batch_size)\n",
    "loader_val = torch.utils.data.DataLoader(dataset_val, batch_size=batch_size)"
   ]
  },
  {
   "cell_type": "markdown",
   "metadata": {},
   "source": [
    "# Problem (a)"
   ]
  },
  {
   "cell_type": "code",
   "execution_count": 3,
   "outputs": [],
   "source": [],
   "metadata": {
    "collapsed": false
   }
  },
  {
   "cell_type": "code",
   "execution_count": 4,
   "metadata": {},
   "outputs": [
    {
     "data": {
      "text/plain": "()"
     },
     "execution_count": 4,
     "metadata": {},
     "output_type": "execute_result"
    }
   ],
   "source": [
    "()"
   ]
  },
  {
   "cell_type": "code",
   "execution_count": 5,
   "metadata": {},
   "outputs": [
    {
     "name": "stdout",
     "output_type": "stream",
     "text": [
      "x: torch.Size([1, 3, 299, 299])\n",
      "fmap:  torch.Size([1, 384, 17, 17])\n",
      "size:  torch.Size([17, 17])\n",
      "52 torch.Size([17, 17])\n",
      "torch.Size([52, 17, 17])\n"
     ]
    }
   ],
   "source": [
    "# CHOOSE THE AUGMENTS IF NECESSARY\n",
    "lamd_s, lamd_d = [1e-1, 1e-1] # the coefficients of the losses. Try other coefficients!\n",
    "epoches = 100 # total epochs for training the encoder\n",
    "lr = 1e-1 # the learing rate for training the encoder\n",
    "\n",
    "alexnet = models.alexnet(pretrained=True)\n",
    "alexnet.to(device)\n",
    "alexnet.eval()\n",
    "for param in alexnet.parameters():\n",
    "    param.requires_grad_(False)\n",
    "\n",
    "x = torch.from_numpy(data_x[0:1]).float().to(device)\n",
    "print(\"x:\", x.shape)\n",
    "fmap = alexnet(x, layer=insp_layer)\n",
    "\n",
    "neurons = data_y_train.shape[1]\n",
    "sizes = fmap.shape[2:]\n",
    "print(\"fmap: \", fmap.shape)\n",
    "print(\"size: \", sizes)\n",
    "channels = fmap.shape[1]\n",
    "print(neurons, sizes)\n",
    "w_s = nn.Parameter(torch.randn(size=(neurons,) + sizes))\n",
    "print(w_s.shape)"
   ]
  },
  {
   "cell_type": "code",
   "execution_count": 6,
   "metadata": {},
   "outputs": [],
   "source": [
    "class conv_encoder(nn.Module):\n",
    "\n",
    "    def __init__(self, neurons, sizes, channels):\n",
    "        super(conv_encoder, self).__init__()\n",
    "        # PUT YOUR CODES HERE\n",
    "        self.W_s = nn.Parameter(torch.randn(size=(neurons,) + sizes))\n",
    "        self.W_d = nn.Parameter(torch.randn(size = (neurons,channels,1,1)))\n",
    "        self.W_b = nn.Parameter(torch.randn(size = (1,neurons)))\n",
    "\n",
    "\n",
    "    def forward(self, x):\n",
    "        # PUT YOUR CODES HERE\n",
    "        out = torch.einsum('bchw , nhw -> bnchw',x,self.W_s) # dimension : N,n,C,h,w\n",
    "        out = torch.stack(\n",
    "            [F.conv2d(out[:,n,:,:,:],torch.unsqueeze(self.W_d[n],0)) for n in range(neurons)],dim=1) \n",
    "            #dimension:N,n,1,h,w\n",
    "        out = torch.sum(out,dim=(2,3,4))\n",
    "        out = out + self.W_b\n",
    "        return out\n",
    "\n",
    "def L_e(y,pred):\n",
    "    return torch.mean(torch.sqrt(torch.sum((y-pred)**2,dim=1)))\n",
    "\n",
    "def L_2(W_s,W_d,lamd_s=lamd_s,lamd_d=lamd_d):\n",
    "    return lamd_s * torch.sum(W_s**2) + lamd_d * torch.sum(W_d**2)\n",
    "\n",
    "K = torch.tensor([\n",
    "    [0,-1,0],\n",
    "    [-1,4,-1],\n",
    "    [0,-1,0]],dtype=torch.float).to(device)\n",
    "def L_laplace(W_s,lamd_s=lamd_s):\n",
    "    return lamd_s * torch.sum(F.conv2d(torch.unsqueeze(W_s,1),K.unsqueeze(0).unsqueeze(0))**2)\n",
    "\n",
    "\n",
    "#encoder = conv_encoder(neurons, sizes, channels).to(device)\n",
    "encoder = conv_encoder(neurons, sizes, channels).to(device)"
   ]
  },
  {
   "cell_type": "code",
   "execution_count": 7,
   "metadata": {},
   "outputs": [
    {
     "data": {
      "text/plain": "'\\n    You need to define the conv_encoder() class and train the encoder.\\n    The code of alexnet has been slightly modified from the torchvision, for convenience\\n    of extracting the middle layers.\\n    \\n    Example:\\n        >>> x = x.to(device) # x is a batch of images\\n        >>> x = transform(x)\\n        >>> fmap = alexnet(x, layer=insp_layer)\\n        >>> out= encoder(fmap)\\n        >>> ...\\n'"
     },
     "execution_count": 7,
     "metadata": {},
     "output_type": "execute_result"
    }
   ],
   "source": [
    "def train_model(encoder, optimizer):\n",
    "    losses = []\n",
    "    encoder.train()\n",
    "    for i,(x,y) in enumerate(loader_train):\n",
    "        optimizer.zero_grad()\n",
    "        x = x.float().to(device)\n",
    "        y = y.float().to(device)\n",
    "        x = transform(x)\n",
    "        fmap = alexnet(x,layer = insp_layer)\n",
    "        out = encoder(fmap)\n",
    "        l_e = L_e(y,out)\n",
    "        l_2 = L_2(encoder.W_s,encoder.W_d)\n",
    "        l_l = L_laplace(encoder.W_s)\n",
    "#         print(f'L_e = {l_e} , L_2 = {l_2} , L_l = {l_l}')\n",
    "        loss = L_e(y,out) + L_2(encoder.W_s,encoder.W_d) + L_laplace(encoder.W_s)\n",
    "        loss.backward()\n",
    "        optimizer.step()\n",
    "        losses.append(loss.item())\n",
    "#         print(f'iteration {i}, train loss: {losses[-1]}')\n",
    "    \n",
    "    return losses\n",
    "\n",
    "def validate_model(encoder):\n",
    "    encoder.eval()\n",
    "    y_pred = []\n",
    "    y_true = []\n",
    "    losses = []\n",
    "    for i,(x,y) in enumerate(loader_val):\n",
    "        x = x.float().to(device)\n",
    "        y = y.float().to(device)\n",
    "        x = transform(x)\n",
    "        fmap = alexnet(x,layer = insp_layer)\n",
    "        out = encoder(fmap)\n",
    "        y_pred.append(out)\n",
    "        y_true.append(y)\n",
    "        l_e = L_e(y,out)\n",
    "        l_2 = L_2(encoder.W_s,encoder.W_d)\n",
    "        l_l = L_laplace(encoder.W_s)\n",
    "        print(f'L_e = {l_e} , L_2 = {l_2} , L_l = {l_l}')\n",
    "        loss = L_e(y,out) + L_2(encoder.W_s,encoder.W_d) + L_laplace(encoder.W_s)\n",
    "        losses.append(loss.item())\n",
    "    y_pred = torch.cat(y_pred)\n",
    "    y_true = torch.cat(y_true)\n",
    "    explained_variance = metrics.explained_variance_score(y_true = y_true.detach().cpu().numpy(),y_pred = y_pred.detach().cpu().numpy())\n",
    "    return explained_variance,sum(losses)/len(losses)\n",
    "\n",
    "\"\"\"\n",
    "    You need to define the conv_encoder() class and train the encoder.\n",
    "    The code of alexnet has been slightly modified from the torchvision, for convenience\n",
    "    of extracting the middle layers.\n",
    "    \n",
    "    Example:\n",
    "        >>> x = x.to(device) # x is a batch of images\n",
    "        >>> x = transform(x)\n",
    "        >>> fmap = alexnet(x, layer=insp_layer)\n",
    "        >>> out= encoder(fmap)\n",
    "        >>> ...\n",
    "\"\"\""
   ]
  },
  {
   "cell_type": "code",
   "execution_count": 8,
   "metadata": {},
   "outputs": [],
   "source": [
    "# losses_train = []\n",
    "# losses_val = []\n",
    "# EVs = []\n",
    "\n",
    "losses_train = []\n",
    "losses_val = []\n",
    "EVs = []"
   ]
  },
  {
   "cell_type": "code",
   "execution_count": 9,
   "metadata": {},
   "outputs": [],
   "source": [
    "\n",
    "lr = 1e-1\n",
    "optimizer = torch.optim.Adam(encoder.parameters(), lr=lr)"
   ]
  },
  {
   "cell_type": "code",
   "execution_count": 10,
   "metadata": {},
   "outputs": [
    {
     "name": "stderr",
     "output_type": "stream",
     "text": [
      "C:\\Users\\admin\\anaconda3\\envs\\neural_control\\lib\\site-packages\\ipykernel_launcher.py:1: TqdmDeprecationWarning: This function will be removed in tqdm==5.0.0\n",
      "Please use `tqdm.notebook.tqdm` instead of `tqdm.tqdm_notebook`\n",
      "  \"\"\"Entry point for launching an IPython kernel.\n"
     ]
    },
    {
     "data": {
      "text/plain": "  0%|          | 0/100 [00:00<?, ?it/s]",
      "application/vnd.jupyter.widget-view+json": {
       "version_major": 2,
       "version_minor": 0,
       "model_id": "88dc23bfd41f4461b508c2ff9d88cc15"
      }
     },
     "metadata": {},
     "output_type": "display_data"
    },
    {
     "name": "stdout",
     "output_type": "stream",
     "text": [
      "L_e = 7420.4013671875 , L_2 = 2482.119873046875 , L_l = 7769.51123046875\n",
      "epoch 0, EV = -1399385.7241586538, val  loss = 17672.033203125 , train loss 26490.6763671875\n",
      "L_e = 3917.556884765625 , L_2 = 1909.12744140625 , L_l = 3358.6171875\n",
      "epoch 1, EV = -506096.8931039664, val  loss = 9185.3017578125 , train loss 13538.28681640625\n",
      "L_e = 2247.81005859375 , L_2 = 1512.765869140625 , L_l = 1665.7581787109375\n",
      "epoch 2, EV = -171477.36987304688, val  loss = 5426.333984375 , train loss 7521.06201171875\n",
      "L_e = 1487.15673828125 , L_2 = 1229.436767578125 , L_l = 863.9611206054688\n",
      "epoch 3, EV = -77634.0573073167, val  loss = 3580.5546875 , train loss 4512.265673828125\n",
      "L_e = 1170.474365234375 , L_2 = 1028.140625 , L_l = 462.734130859375\n",
      "epoch 4, EV = -42386.541370098406, val  loss = 2661.34912109375 , train loss 3123.770703125\n",
      "L_e = 739.4674072265625 , L_2 = 878.2166137695312 , L_l = 259.82757568359375\n",
      "epoch 5, EV = -20668.60581970215, val  loss = 1877.51171875 , train loss 2231.2570556640626\n",
      "L_e = 553.8003540039062 , L_2 = 760.481201171875 , L_l = 149.07127380371094\n",
      "epoch 6, EV = -11412.13635629874, val  loss = 1463.352783203125 , train loss 1634.8057739257813\n",
      "L_e = 399.5477600097656 , L_2 = 664.5747680664062 , L_l = 87.54729461669922\n",
      "epoch 7, EV = -6178.762638183741, val  loss = 1151.6697998046875 , train loss 1245.0056884765625\n",
      "L_e = 1234.9395751953125 , L_2 = 587.9608764648438 , L_l = 52.66838455200195\n",
      "epoch 8, EV = -7023.130448263425, val  loss = 1875.5687255859375 , train loss 1650.2288940429687\n",
      "L_e = 1706.468017578125 , L_2 = 526.011962890625 , L_l = 33.04133987426758\n",
      "epoch 9, EV = -13561.630700244354, val  loss = 2265.521240234375 , train loss 1826.91904296875\n",
      "L_e = 590.7628173828125 , L_2 = 472.05987548828125 , L_l = 21.2829647064209\n",
      "epoch 10, EV = -2329.597590937064, val  loss = 1084.105712890625 , train loss 1412.9687072753907\n",
      "L_e = 296.15960693359375 , L_2 = 424.56658935546875 , L_l = 13.982977867126465\n",
      "epoch 11, EV = -1735.1996405537311, val  loss = 734.7091674804688 , train loss 918.2729614257812\n",
      "L_e = 183.86688232421875 , L_2 = 382.1156005859375 , L_l = 9.303115844726562\n",
      "epoch 12, EV = -1399.134521672359, val  loss = 575.2855834960938 , train loss 635.3749694824219\n",
      "L_e = 128.9326171875 , L_2 = 343.6819763183594 , L_l = 6.344310760498047\n",
      "epoch 13, EV = -633.476437160602, val  loss = 478.9588928222656 , train loss 497.59791870117186\n",
      "L_e = 94.1024169921875 , L_2 = 309.4466857910156 , L_l = 4.521860599517822\n",
      "epoch 14, EV = -360.81615451780647, val  loss = 408.0709533691406 , train loss 425.7371368408203\n",
      "L_e = 77.2410888671875 , L_2 = 279.01800537109375 , L_l = 3.382500410079956\n",
      "epoch 15, EV = -225.45577002144776, val  loss = 359.6416015625 , train loss 360.91993103027346\n",
      "L_e = 317.97198486328125 , L_2 = 252.08627319335938 , L_l = 2.756830930709839\n",
      "epoch 16, EV = -335.5639084348312, val  loss = 572.8150634765625 , train loss 321.71265869140626\n",
      "L_e = 423.29638671875 , L_2 = 229.6016845703125 , L_l = 2.253040075302124\n",
      "epoch 17, EV = -901.3076271002109, val  loss = 655.151123046875 , train loss 925.5555603027344\n",
      "L_e = 291.08306884765625 , L_2 = 210.50015258789062 , L_l = 1.5870990753173828\n",
      "epoch 18, EV = -1405.4287776534375, val  loss = 503.1703186035156 , train loss 789.2316955566406\n",
      "L_e = 2654.716552734375 , L_2 = 193.6607666015625 , L_l = 1.4883702993392944\n",
      "epoch 19, EV = -16221.720730723096, val  loss = 2849.86572265625 , train loss 740.4358428955078\n",
      "L_e = 812.396484375 , L_2 = 177.84591674804688 , L_l = 1.363027572631836\n",
      "epoch 20, EV = -3244.634819155702, val  loss = 991.60546875 , train loss 1466.4305877685547\n",
      "L_e = 310.63873291015625 , L_2 = 163.56983947753906 , L_l = 1.1961618661880493\n",
      "epoch 21, EV = -4659.167856599276, val  loss = 475.40472412109375 , train loss 1170.3984466552733\n",
      "L_e = 149.5836181640625 , L_2 = 150.6344451904297 , L_l = 1.1378635168075562\n",
      "epoch 22, EV = -1274.482249195759, val  loss = 301.35595703125 , train loss 562.4190124511719\n",
      "L_e = 181.16342163085938 , L_2 = 138.93551635742188 , L_l = 1.147420883178711\n",
      "epoch 23, EV = -430.60840119536107, val  loss = 321.2463684082031 , train loss 309.61312408447264\n",
      "L_e = 111.35664367675781 , L_2 = 128.14950561523438 , L_l = 0.8864208459854126\n",
      "epoch 24, EV = -130.6836703121662, val  loss = 240.39256286621094 , train loss 276.72154693603517\n",
      "L_e = 51.44868469238281 , L_2 = 118.4686279296875 , L_l = 0.7678598165512085\n",
      "epoch 25, EV = -80.03737076543845, val  loss = 170.68516540527344 , train loss 241.88961944580078\n",
      "L_e = 104.70333862304688 , L_2 = 109.6677474975586 , L_l = 0.7372499108314514\n",
      "epoch 26, EV = -145.49398619051163, val  loss = 215.10833740234375 , train loss 197.22443389892578\n",
      "L_e = 130.56634521484375 , L_2 = 101.65258026123047 , L_l = 0.7210198640823364\n",
      "epoch 27, EV = -149.41216510992783, val  loss = 232.93995666503906 , train loss 173.33326568603516\n",
      "L_e = 59.553558349609375 , L_2 = 94.35459899902344 , L_l = 0.6591152548789978\n",
      "epoch 28, EV = -59.02373989384908, val  loss = 154.56727600097656 , train loss 162.2132583618164\n",
      "L_e = 8659.11328125 , L_2 = 90.44307708740234 , L_l = 0.8331305384635925\n",
      "epoch 29, EV = -179872.5985796532, val  loss = 8750.3896484375 , train loss 2131.2385543823243\n",
      "L_e = 3120.353759765625 , L_2 = 85.88465118408203 , L_l = 0.8332763910293579\n",
      "epoch 30, EV = -44780.62270876536, val  loss = 3207.07177734375 , train loss 5214.2515869140625\n",
      "L_e = 3822.4765625 , L_2 = 82.94390106201172 , L_l = 0.8056581616401672\n",
      "epoch 31, EV = -88175.62152916078, val  loss = 3906.22607421875 , train loss 3327.5285034179688\n",
      "L_e = 6512.68798828125 , L_2 = 77.1068115234375 , L_l = 0.8700504302978516\n",
      "epoch 32, EV = -168537.00433877684, val  loss = 6590.6650390625 , train loss 3648.86875\n",
      "L_e = 2073.76416015625 , L_2 = 73.53278350830078 , L_l = 0.9717828035354614\n",
      "epoch 33, EV = -69789.4747358572, val  loss = 2148.2685546875 , train loss 3834.955920410156\n",
      "L_e = 10970.28125 , L_2 = 65.53997802734375 , L_l = 0.989351212978363\n",
      "epoch 34, EV = -321430.64521472156, val  loss = 11036.810546875 , train loss 5904.61865234375\n",
      "L_e = 3005.45849609375 , L_2 = 60.5295295715332 , L_l = 1.1332446336746216\n",
      "epoch 35, EV = -12720.802633604178, val  loss = 3067.121337890625 , train loss 5553.712902832031\n",
      "L_e = 5191.94677734375 , L_2 = 59.488704681396484 , L_l = 1.185479760169983\n",
      "epoch 36, EV = -151234.78975679554, val  loss = 5252.62109375 , train loss 2588.875177001953\n",
      "L_e = 382.80438232421875 , L_2 = 54.34695053100586 , L_l = 1.2288657426834106\n",
      "epoch 37, EV = -8552.859537254159, val  loss = 438.38018798828125 , train loss 2133.8293579101564\n",
      "L_e = 393.21923828125 , L_2 = 51.5633659362793 , L_l = 1.169051170349121\n",
      "epoch 38, EV = -7607.695725435247, val  loss = 445.9516296386719 , train loss 1068.278515625\n",
      "L_e = 877.6098022460938 , L_2 = 48.015254974365234 , L_l = 1.0920946598052979\n",
      "epoch 39, EV = -6486.842736396652, val  loss = 926.7171630859375 , train loss 899.8007568359375\n",
      "L_e = 161.8552703857422 , L_2 = 44.98859786987305 , L_l = 1.0080437660217285\n",
      "epoch 40, EV = -889.2241807969717, val  loss = 207.85191345214844 , train loss 453.1959915161133\n",
      "L_e = 82.40904998779297 , L_2 = 42.32902908325195 , L_l = 0.9487406611442566\n",
      "epoch 41, EV = -264.82806634444455, val  loss = 125.68682098388672 , train loss 246.90396575927736\n",
      "L_e = 62.960693359375 , L_2 = 39.71428680419922 , L_l = 0.8701805472373962\n",
      "epoch 42, EV = -103.51622888216606, val  loss = 103.54515838623047 , train loss 106.00133361816407\n",
      "L_e = 2939.4013671875 , L_2 = 39.190303802490234 , L_l = 0.9682396054267883\n",
      "epoch 43, EV = -13277.222514512447, val  loss = 2979.559814453125 , train loss 2066.294618988037\n",
      "L_e = 8350.669921875 , L_2 = 38.26100540161133 , L_l = 1.1412047147750854\n",
      "epoch 44, EV = -140471.4249539295, val  loss = 8390.072265625 , train loss 6502.705834960938\n",
      "L_e = 2645.364501953125 , L_2 = 36.204559326171875 , L_l = 1.3628700971603394\n",
      "epoch 45, EV = -20176.09423004549, val  loss = 2682.931884765625 , train loss 6549.446362304688\n",
      "L_e = 2270.723876953125 , L_2 = 34.913509368896484 , L_l = 1.3235187530517578\n",
      "epoch 46, EV = -30725.634469852997, val  loss = 2306.9609375 , train loss 1932.6202575683594\n",
      "L_e = 1012.7353515625 , L_2 = 33.003936767578125 , L_l = 1.2090860605239868\n",
      "epoch 47, EV = -12255.216103608791, val  loss = 1046.9483642578125 , train loss 1046.695263671875\n",
      "L_e = 224.62210083007812 , L_2 = 30.71657943725586 , L_l = 1.074163794517517\n",
      "epoch 48, EV = -1720.1028571724892, val  loss = 256.412841796875 , train loss 484.0513656616211\n",
      "L_e = 78.67961120605469 , L_2 = 28.7170467376709 , L_l = 0.962542712688446\n",
      "epoch 49, EV = -121.98000921308994, val  loss = 108.35919952392578 , train loss 173.58938903808593\n",
      "L_e = 43.39177703857422 , L_2 = 26.949411392211914 , L_l = 0.8608434796333313\n",
      "epoch 50, EV = -78.40075362989536, val  loss = 71.2020263671875 , train loss 96.42626190185547\n",
      "L_e = 1213.0599365234375 , L_2 = 27.011043548583984 , L_l = 1.0438859462738037\n",
      "epoch 51, EV = -1207.7739054778447, val  loss = 1241.1148681640625 , train loss 2528.9007469177245\n",
      "L_e = 1072.429931640625 , L_2 = 25.774385452270508 , L_l = 1.0691715478897095\n",
      "epoch 52, EV = -16334.503570933755, val  loss = 1099.2735595703125 , train loss 1951.4841674804688\n",
      "L_e = 533.597412109375 , L_2 = 24.060441970825195 , L_l = 1.0091077089309692\n",
      "epoch 53, EV = -2289.373512647473, val  loss = 558.6669311523438 , train loss 1936.6286193847657\n",
      "L_e = 1468.22265625 , L_2 = 23.37224769592285 , L_l = 0.9318470358848572\n",
      "epoch 54, EV = -21770.42583482655, val  loss = 1492.5267333984375 , train loss 1308.5370819091797\n",
      "L_e = 449.6911926269531 , L_2 = 21.758638381958008 , L_l = 0.8958029747009277\n",
      "epoch 55, EV = -4833.953295455529, val  loss = 472.34564208984375 , train loss 848.9953063964844\n",
      "L_e = 133.55905151367188 , L_2 = 20.549331665039062 , L_l = 0.8445873260498047\n",
      "epoch 56, EV = -287.71769556288535, val  loss = 154.95297241210938 , train loss 276.1713264465332\n",
      "L_e = 52.18512725830078 , L_2 = 19.49367332458496 , L_l = 0.7981659770011902\n",
      "epoch 57, EV = -94.9100351035595, val  loss = 72.47696685791016 , train loss 154.0948516845703\n",
      "L_e = 13716.357421875 , L_2 = 21.30422592163086 , L_l = 0.7598150372505188\n",
      "epoch 58, EV = -457665.7289290382, val  loss = 13738.421875 , train loss 5107.802584838867\n",
      "L_e = 3388.34814453125 , L_2 = 20.122323989868164 , L_l = 0.9775239825248718\n",
      "epoch 59, EV = -39258.96449289299, val  loss = 3409.447998046875 , train loss 6528.985140991211\n",
      "L_e = 342.3717346191406 , L_2 = 20.044864654541016 , L_l = 1.2712959051132202\n",
      "epoch 60, EV = -9803.59324404368, val  loss = 363.6878967285156 , train loss 2402.5167449951173\n",
      "L_e = 289.5584716796875 , L_2 = 18.098981857299805 , L_l = 1.1738063097000122\n",
      "epoch 61, EV = -4146.919372984996, val  loss = 308.83123779296875 , train loss 1117.9979431152344\n",
      "L_e = 357.5086669921875 , L_2 = 17.111492156982422 , L_l = 1.1447372436523438\n",
      "epoch 62, EV = -898.8874472219211, val  loss = 375.764892578125 , train loss 566.2603439331054\n",
      "L_e = 167.70326232910156 , L_2 = 16.206003189086914 , L_l = 1.032023549079895\n",
      "epoch 63, EV = -2082.433739314859, val  loss = 184.94129943847656 , train loss 300.7564666748047\n",
      "L_e = 79.65188598632812 , L_2 = 15.641582489013672 , L_l = 0.9874001741409302\n",
      "epoch 64, EV = -413.2101842107681, val  loss = 96.28087615966797 , train loss 140.7084732055664\n",
      "L_e = 82.1722412109375 , L_2 = 14.580000877380371 , L_l = 0.8960887789726257\n",
      "epoch 65, EV = -198.35063842512093, val  loss = 97.64833068847656 , train loss 97.56586074829102\n",
      "L_e = 2600.579833984375 , L_2 = 14.416570663452148 , L_l = 0.8408843278884888\n",
      "epoch 66, EV = -12505.88989678713, val  loss = 2615.837158203125 , train loss 1657.4770286560058\n",
      "L_e = 5085.17822265625 , L_2 = 15.136541366577148 , L_l = 0.9582986831665039\n",
      "epoch 67, EV = -59490.87420474451, val  loss = 5101.2734375 , train loss 2448.1528045654295\n",
      "L_e = 481.0542907714844 , L_2 = 15.072741508483887 , L_l = 1.0272692441940308\n",
      "epoch 68, EV = -10647.551488854564, val  loss = 497.1543273925781 , train loss 2026.1112930297852\n",
      "L_e = 404.4137268066406 , L_2 = 14.04603099822998 , L_l = 1.0707505941390991\n",
      "epoch 69, EV = -7512.148122394314, val  loss = 419.5304870605469 , train loss 1064.8528747558594\n",
      "L_e = 258.6556396484375 , L_2 = 12.83144760131836 , L_l = 1.1532992124557495\n",
      "epoch 70, EV = -613.9398627888697, val  loss = 272.640380859375 , train loss 617.2438171386718\n",
      "L_e = 181.0641326904297 , L_2 = 12.131462097167969 , L_l = 1.2298288345336914\n",
      "epoch 71, EV = -1046.028329292169, val  loss = 194.4254150390625 , train loss 387.2846031188965\n",
      "L_e = 91.43915557861328 , L_2 = 11.447196006774902 , L_l = 1.124133825302124\n",
      "epoch 72, EV = -101.38563818427232, val  loss = 104.01048278808594 , train loss 192.62909240722655\n",
      "L_e = 208.22555541992188 , L_2 = 11.253705024719238 , L_l = 1.0122555494308472\n",
      "epoch 73, EV = -178.50263093411922, val  loss = 220.49151611328125 , train loss 5251.146062469483\n",
      "L_e = 3264.073486328125 , L_2 = 14.18478012084961 , L_l = 1.0667842626571655\n",
      "epoch 74, EV = -83467.8342082512, val  loss = 3279.3251953125 , train loss 5800.315716552735\n",
      "L_e = 4790.060546875 , L_2 = 13.858444213867188 , L_l = 1.1430953741073608\n",
      "epoch 75, EV = -109214.39938356212, val  loss = 4805.06201171875 , train loss 3229.0738220214844\n",
      "L_e = 316.9109802246094 , L_2 = 12.125663757324219 , L_l = 1.252976894378662\n",
      "epoch 76, EV = -6472.773124918342, val  loss = 330.2896423339844 , train loss 1979.753598022461\n",
      "L_e = 269.0959777832031 , L_2 = 11.478748321533203 , L_l = 1.5193389654159546\n",
      "epoch 77, EV = -3647.1534972087693, val  loss = 282.0940856933594 , train loss 584.2308715820312\n",
      "L_e = 161.1832275390625 , L_2 = 10.680916786193848 , L_l = 1.5099716186523438\n",
      "epoch 78, EV = -1320.2060481057717, val  loss = 173.37411499023438 , train loss 583.0125793457031\n",
      "L_e = 596.7175903320312 , L_2 = 9.642699241638184 , L_l = 1.4199984073638916\n",
      "epoch 79, EV = -959.4613401970038, val  loss = 607.7802734375 , train loss 334.0343994140625\n",
      "L_e = 128.28518676757812 , L_2 = 8.965348243713379 , L_l = 1.2523813247680664\n",
      "epoch 80, EV = -438.03819081072623, val  loss = 138.50291442871094 , train loss 353.49635925292966\n",
      "L_e = 147.96405029296875 , L_2 = 8.508928298950195 , L_l = 1.115776538848877\n",
      "epoch 81, EV = -172.11383844568178, val  loss = 157.58876037597656 , train loss 169.47029571533204\n",
      "L_e = 41125.48828125 , L_2 = 15.361371994018555 , L_l = 1.1037315130233765\n",
      "epoch 82, EV = -3741989.948218121, val  loss = 41141.95703125 , train loss 559.8467979431152\n",
      "L_e = 1407.1326904296875 , L_2 = 12.605264663696289 , L_l = 1.1843122243881226\n",
      "epoch 83, EV = -66736.58672047693, val  loss = 1420.9222412109375 , train loss 9409.441711425781\n",
      "L_e = 223.3043670654297 , L_2 = 9.368785858154297 , L_l = 1.353176236152649\n",
      "epoch 84, EV = -1321.8696902680856, val  loss = 234.02633666992188 , train loss 1888.7619232177735\n",
      "L_e = 1447.286865234375 , L_2 = 9.680782318115234 , L_l = 1.3560898303985596\n",
      "epoch 85, EV = -7002.214474781202, val  loss = 1458.32373046875 , train loss 442.4668899536133\n",
      "L_e = 1825.132568359375 , L_2 = 8.493624687194824 , L_l = 1.2282005548477173\n",
      "epoch 86, EV = -18235.97307425852, val  loss = 1834.8543701171875 , train loss 1313.3216522216796\n",
      "L_e = 771.8037719726562 , L_2 = 8.235206604003906 , L_l = 1.2128422260284424\n",
      "epoch 87, EV = -1831.061386714761, val  loss = 781.2518310546875 , train loss 962.5671279907226\n",
      "L_e = 354.53912353515625 , L_2 = 7.773133277893066 , L_l = 1.0646144151687622\n",
      "epoch 88, EV = -1865.394403935625, val  loss = 363.3768615722656 , train loss 410.2574096679688\n",
      "L_e = 160.12191772460938 , L_2 = 7.716407775878906 , L_l = 1.102646827697754\n",
      "epoch 89, EV = -1486.7657422652612, val  loss = 168.9409637451172 , train loss 353.59846649169924\n",
      "L_e = 208.3801727294922 , L_2 = 7.107532501220703 , L_l = 0.9804345369338989\n",
      "epoch 90, EV = -470.2457768871234, val  loss = 216.4681396484375 , train loss 273.3061683654785\n",
      "L_e = 4015.40673828125 , L_2 = 7.2519049644470215 , L_l = 0.8794136047363281\n",
      "epoch 91, EV = -27696.256613518184, val  loss = 4023.5380859375 , train loss 131.4171585083008\n",
      "L_e = 525.0701904296875 , L_2 = 7.510603904724121 , L_l = 0.9881613850593567\n",
      "epoch 92, EV = -4351.712971510796, val  loss = 533.5689697265625 , train loss 4559.909530639648\n",
      "L_e = 1878.155517578125 , L_2 = 9.645605087280273 , L_l = 1.2401951551437378\n",
      "epoch 93, EV = -86933.57615564534, val  loss = 1889.0413818359375 , train loss 1976.5152587890625\n",
      "L_e = 934.02880859375 , L_2 = 10.927245140075684 , L_l = 1.3615922927856445\n",
      "epoch 94, EV = -40382.6101959428, val  loss = 946.317626953125 , train loss 1185.553515625\n",
      "L_e = 646.1715087890625 , L_2 = 8.588187217712402 , L_l = 1.3797639608383179\n",
      "epoch 95, EV = -4747.545372161728, val  loss = 656.1394653320312 , train loss 1388.4063598632813\n",
      "L_e = 1002.3760375976562 , L_2 = 8.286371231079102 , L_l = 1.4884072542190552\n",
      "epoch 96, EV = -30546.343833146188, val  loss = 1012.1508178710938 , train loss 1138.0256958007812\n",
      "L_e = 146.7181854248047 , L_2 = 7.207055568695068 , L_l = 1.4324768781661987\n",
      "epoch 97, EV = -369.3318806015528, val  loss = 155.35772705078125 , train loss 470.0524627685547\n",
      "L_e = 71.27156829833984 , L_2 = 6.657655239105225 , L_l = 1.2818197011947632\n",
      "epoch 98, EV = -190.24399500741407, val  loss = 79.21104431152344 , train loss 161.40181045532228\n",
      "L_e = 61.014251708984375 , L_2 = 6.037018299102783 , L_l = 1.0613243579864502\n",
      "epoch 99, EV = -161.75799055512135, val  loss = 68.11259460449219 , train loss 96.25481605529785\n"
     ]
    }
   ],
   "source": [
    "\n",
    "for epoch in tqdm_notebook(range(epoches)):\n",
    "    losses_train += train_model(encoder,optimizer)\n",
    "    ev,loss = validate_model(encoder)\n",
    "    EVs.append(ev)\n",
    "    losses_val.append(loss)\n",
    "    print(f'epoch {epoch}, EV = {ev}, val  loss = {loss} , train loss {sum(losses_train[-10:])/10}')\n",
    "    \n"
   ]
  },
  {
   "cell_type": "code",
   "execution_count": 11,
   "metadata": {},
   "outputs": [
    {
     "ename": "FileNotFoundError",
     "evalue": "[Errno 2] No such file or directory: '../models/exp9.pt'",
     "output_type": "error",
     "traceback": [
      "\u001B[1;31m---------------------------------------------------------------------------\u001B[0m",
      "\u001B[1;31mFileNotFoundError\u001B[0m                         Traceback (most recent call last)",
      "\u001B[1;32m~\\AppData\\Local\\Temp\\3\\ipykernel_26896\\341107563.py\u001B[0m in \u001B[0;36m<module>\u001B[1;34m\u001B[0m\n\u001B[0;32m      1\u001B[0m \u001B[0mexp\u001B[0m \u001B[1;33m=\u001B[0m \u001B[1;36m9\u001B[0m\u001B[1;33m\u001B[0m\u001B[1;33m\u001B[0m\u001B[0m\n\u001B[1;32m----> 2\u001B[1;33m \u001B[0mtorch\u001B[0m\u001B[1;33m.\u001B[0m\u001B[0msave\u001B[0m\u001B[1;33m(\u001B[0m\u001B[0mencoder\u001B[0m\u001B[1;33m,\u001B[0m \u001B[1;34mf'../models/exp{exp}.pt'\u001B[0m\u001B[1;33m)\u001B[0m\u001B[1;33m\u001B[0m\u001B[1;33m\u001B[0m\u001B[0m\n\u001B[0m",
      "\u001B[1;32m~\\anaconda3\\envs\\neural_control\\lib\\site-packages\\torch\\serialization.py\u001B[0m in \u001B[0;36msave\u001B[1;34m(obj, f, pickle_module, pickle_protocol, _use_new_zipfile_serialization)\u001B[0m\n\u001B[0;32m    367\u001B[0m     \u001B[0m_check_dill_version\u001B[0m\u001B[1;33m(\u001B[0m\u001B[0mpickle_module\u001B[0m\u001B[1;33m)\u001B[0m\u001B[1;33m\u001B[0m\u001B[1;33m\u001B[0m\u001B[0m\n\u001B[0;32m    368\u001B[0m \u001B[1;33m\u001B[0m\u001B[0m\n\u001B[1;32m--> 369\u001B[1;33m     \u001B[1;32mwith\u001B[0m \u001B[0m_open_file_like\u001B[0m\u001B[1;33m(\u001B[0m\u001B[0mf\u001B[0m\u001B[1;33m,\u001B[0m \u001B[1;34m'wb'\u001B[0m\u001B[1;33m)\u001B[0m \u001B[1;32mas\u001B[0m \u001B[0mopened_file\u001B[0m\u001B[1;33m:\u001B[0m\u001B[1;33m\u001B[0m\u001B[1;33m\u001B[0m\u001B[0m\n\u001B[0m\u001B[0;32m    370\u001B[0m         \u001B[1;32mif\u001B[0m \u001B[0m_use_new_zipfile_serialization\u001B[0m\u001B[1;33m:\u001B[0m\u001B[1;33m\u001B[0m\u001B[1;33m\u001B[0m\u001B[0m\n\u001B[0;32m    371\u001B[0m             \u001B[1;32mwith\u001B[0m \u001B[0m_open_zipfile_writer\u001B[0m\u001B[1;33m(\u001B[0m\u001B[0mopened_file\u001B[0m\u001B[1;33m)\u001B[0m \u001B[1;32mas\u001B[0m \u001B[0mopened_zipfile\u001B[0m\u001B[1;33m:\u001B[0m\u001B[1;33m\u001B[0m\u001B[1;33m\u001B[0m\u001B[0m\n",
      "\u001B[1;32m~\\anaconda3\\envs\\neural_control\\lib\\site-packages\\torch\\serialization.py\u001B[0m in \u001B[0;36m_open_file_like\u001B[1;34m(name_or_buffer, mode)\u001B[0m\n\u001B[0;32m    228\u001B[0m \u001B[1;32mdef\u001B[0m \u001B[0m_open_file_like\u001B[0m\u001B[1;33m(\u001B[0m\u001B[0mname_or_buffer\u001B[0m\u001B[1;33m,\u001B[0m \u001B[0mmode\u001B[0m\u001B[1;33m)\u001B[0m\u001B[1;33m:\u001B[0m\u001B[1;33m\u001B[0m\u001B[1;33m\u001B[0m\u001B[0m\n\u001B[0;32m    229\u001B[0m     \u001B[1;32mif\u001B[0m \u001B[0m_is_path\u001B[0m\u001B[1;33m(\u001B[0m\u001B[0mname_or_buffer\u001B[0m\u001B[1;33m)\u001B[0m\u001B[1;33m:\u001B[0m\u001B[1;33m\u001B[0m\u001B[1;33m\u001B[0m\u001B[0m\n\u001B[1;32m--> 230\u001B[1;33m         \u001B[1;32mreturn\u001B[0m \u001B[0m_open_file\u001B[0m\u001B[1;33m(\u001B[0m\u001B[0mname_or_buffer\u001B[0m\u001B[1;33m,\u001B[0m \u001B[0mmode\u001B[0m\u001B[1;33m)\u001B[0m\u001B[1;33m\u001B[0m\u001B[1;33m\u001B[0m\u001B[0m\n\u001B[0m\u001B[0;32m    231\u001B[0m     \u001B[1;32melse\u001B[0m\u001B[1;33m:\u001B[0m\u001B[1;33m\u001B[0m\u001B[1;33m\u001B[0m\u001B[0m\n\u001B[0;32m    232\u001B[0m         \u001B[1;32mif\u001B[0m \u001B[1;34m'w'\u001B[0m \u001B[1;32min\u001B[0m \u001B[0mmode\u001B[0m\u001B[1;33m:\u001B[0m\u001B[1;33m\u001B[0m\u001B[1;33m\u001B[0m\u001B[0m\n",
      "\u001B[1;32m~\\anaconda3\\envs\\neural_control\\lib\\site-packages\\torch\\serialization.py\u001B[0m in \u001B[0;36m__init__\u001B[1;34m(self, name, mode)\u001B[0m\n\u001B[0;32m    209\u001B[0m \u001B[1;32mclass\u001B[0m \u001B[0m_open_file\u001B[0m\u001B[1;33m(\u001B[0m\u001B[0m_opener\u001B[0m\u001B[1;33m)\u001B[0m\u001B[1;33m:\u001B[0m\u001B[1;33m\u001B[0m\u001B[1;33m\u001B[0m\u001B[0m\n\u001B[0;32m    210\u001B[0m     \u001B[1;32mdef\u001B[0m \u001B[0m__init__\u001B[0m\u001B[1;33m(\u001B[0m\u001B[0mself\u001B[0m\u001B[1;33m,\u001B[0m \u001B[0mname\u001B[0m\u001B[1;33m,\u001B[0m \u001B[0mmode\u001B[0m\u001B[1;33m)\u001B[0m\u001B[1;33m:\u001B[0m\u001B[1;33m\u001B[0m\u001B[1;33m\u001B[0m\u001B[0m\n\u001B[1;32m--> 211\u001B[1;33m         \u001B[0msuper\u001B[0m\u001B[1;33m(\u001B[0m\u001B[0m_open_file\u001B[0m\u001B[1;33m,\u001B[0m \u001B[0mself\u001B[0m\u001B[1;33m)\u001B[0m\u001B[1;33m.\u001B[0m\u001B[0m__init__\u001B[0m\u001B[1;33m(\u001B[0m\u001B[0mopen\u001B[0m\u001B[1;33m(\u001B[0m\u001B[0mname\u001B[0m\u001B[1;33m,\u001B[0m \u001B[0mmode\u001B[0m\u001B[1;33m)\u001B[0m\u001B[1;33m)\u001B[0m\u001B[1;33m\u001B[0m\u001B[1;33m\u001B[0m\u001B[0m\n\u001B[0m\u001B[0;32m    212\u001B[0m \u001B[1;33m\u001B[0m\u001B[0m\n\u001B[0;32m    213\u001B[0m     \u001B[1;32mdef\u001B[0m \u001B[0m__exit__\u001B[0m\u001B[1;33m(\u001B[0m\u001B[0mself\u001B[0m\u001B[1;33m,\u001B[0m \u001B[1;33m*\u001B[0m\u001B[0margs\u001B[0m\u001B[1;33m)\u001B[0m\u001B[1;33m:\u001B[0m\u001B[1;33m\u001B[0m\u001B[1;33m\u001B[0m\u001B[0m\n",
      "\u001B[1;31mFileNotFoundError\u001B[0m: [Errno 2] No such file or directory: '../models/exp9.pt'"
     ]
    }
   ],
   "source": [
    "exp = 9\n",
    "torch.save(encoder, f'../models/exp{exp}.pt')"
   ]
  },
  {
   "cell_type": "code",
   "execution_count": null,
   "metadata": {},
   "outputs": [],
   "source": [
    "exp = '9cpu'\n",
    "\n",
    "encoder = torch.load(f'../models/exp{exp}.pt').to(device)"
   ]
  },
  {
   "cell_type": "code",
   "execution_count": 12,
   "metadata": {},
   "outputs": [
    {
     "data": {
      "text/plain": "-59.02373989384908"
     },
     "execution_count": 12,
     "metadata": {},
     "output_type": "execute_result"
    }
   ],
   "source": [
    "max(EVs)"
   ]
  },
  {
   "cell_type": "code",
   "execution_count": 13,
   "metadata": {},
   "outputs": [
    {
     "data": {
      "text/plain": "[<matplotlib.lines.Line2D at 0x264c6008908>]"
     },
     "execution_count": 13,
     "metadata": {},
     "output_type": "execute_result"
    },
    {
     "data": {
      "text/plain": "<Figure size 640x480 with 1 Axes>",
      "image/png": "[encoded data removed]"
     },
     "metadata": {},
     "output_type": "display_data"
    }
   ],
   "source": [
    "plt.plot(losses_train)"
   ]
  },
  {
   "cell_type": "code",
   "execution_count": null,
   "metadata": {},
   "outputs": [],
   "source": [
    "plt.plot(losses_val)"
   ]
  },
  {
   "cell_type": "code",
   "execution_count": null,
   "metadata": {},
   "outputs": [],
   "source": [
    "plt.plot(EVs)"
   ]
  },
  {
   "cell_type": "code",
   "execution_count": null,
   "metadata": {},
   "outputs": [],
   "source": [
    "plt.plot(EVs)"
   ]
  },
  {
   "cell_type": "code",
   "execution_count": null,
   "metadata": {},
   "outputs": [],
   "source": []
  },
  {
   "cell_type": "code",
   "execution_count": null,
   "metadata": {},
   "outputs": [],
   "source": []
  },
  {
   "cell_type": "code",
   "execution_count": null,
   "metadata": {},
   "outputs": [],
   "source": []
  },
  {
   "cell_type": "code",
   "execution_count": null,
   "metadata": {},
   "outputs": [],
   "source": [
    "I = best_x.cpu().detach().numpy()\n",
    "for i in range(5):\n",
    "    fig,axes = plt.subplots(nrows = 1 , ncols = 5,  figsize=(20,4))\n",
    "    for j in range (5):\n",
    "        axes[j].imshow(I[5*i+j][0],interpolation='gaussian',cmap='gray')\n",
    "        axes[j].tick_params(labelbottom=False,labelleft=False,left=False,bottom=False)\n",
    "    fig.suptitle(f\"5 generated images for one hot maximization of neural site {n_id[i]}\")"
   ]
  },
  {
   "cell_type": "code",
   "execution_count": null,
   "outputs": [],
   "source": [],
   "metadata": {
    "collapsed": false
   }
  },
  {
   "cell_type": "markdown",
   "source": [
    "show the results"
   ],
   "metadata": {
    "collapsed": false
   }
  },
  {
   "cell_type": "markdown",
   "source": [
    "# Problem (b)"
   ],
   "metadata": {
    "collapsed": false
   }
  },
  {
   "cell_type": "markdown",
   "source": [
    "# b - Neural site response stretch"
   ],
   "metadata": {
    "collapsed": false
   }
  },
  {
   "cell_type": "code",
   "execution_count": null,
   "outputs": [],
   "source": [
    "# CHOOSE THE AUGMENTS IF NECESSARY\n",
    "n_id = np.random.randint(0, n_neurons, [5])  #inspect several neurons\n",
    "rep_num = 5  # reptitions of each neuron\n",
    "iters = 200 # iterations for synthesis\n",
    "lr = 5e-3 # learing rate for synthesis\n",
    "jitter = True # jitter the input for imitating the movement of the eyes\n",
    "\n",
    "n_id_torch = torch.tensor(n_id.tolist(), dtype=torch.int64).to(device).repeat_interleave(rep_num).view(-1, 1)\n",
    "\n",
    "def loss_TV(x):\n",
    "    wd = x[:, :, 1:, :] - x[:, :, :-1, :]\n",
    "    hd = x[:, :, :, 1:] - x[:, :, :, :-1]\n",
    "    loss = (wd ** 2).mean([2]).sum() + (hd ** 2).mean([3]).sum()\n",
    "    return loss\n",
    "\n",
    "def jitter_image(img, max_pixels=19):\n",
    "    sx, sy = np.random.randint(-max_pixels, max_pixels, size=2).tolist()\n",
    "    img_shift = img.roll(sx, 3).roll(sy, 2)\n",
    "    return img_shift\n",
    "\n",
    "encoder.eval()\n",
    "for param in encoder.parameters():\n",
    "#     param.requires_grad_(False)\n",
    "    param = param.detach()\n",
    "\n",
    "init_images = np.random.uniform(0, 1, [len(n_id_torch), 1, 299, 299]).astype(np.float32)\n",
    "x = torch.from_numpy(init_images)\n",
    "x = x.to(device)\n",
    "\n",
    "\n",
    "# PUT YOUR CODES HERE\n",
    "\"\"\"\n",
    "    In each iteration, you can use jitter_image() function to jitter the input\n",
    "    image, and use transform predefined to apply standard imagnet preprocess\n",
    "\n",
    "    Example:\n",
    "        >>> x_jittered = jitter_image(x)\n",
    "        >>> x_jittered = transform(x_jitter.repeat([1, 3, 1, 1]))\n",
    "        ...\n",
    "\n",
    "    In addition, it is better to normalize when updating the input image x\n",
    "\n",
    "    Example:\n",
    "        >>> grad = x.grad.detach()\n",
    "        >>> grad /= grad.std([1, 2, 3], keepdim=True) + 1e-8\n",
    "        >>> x = (x - lr * grad).clamp(0, 1).detach()\n",
    "\"\"\""
   ],
   "metadata": {
    "collapsed": false
   }
  },
  {
   "cell_type": "code",
   "execution_count": null,
   "outputs": [],
   "source": [
    "init_images = np.random.uniform(0, 1, [len(n_id_torch), 1, 299, 299]).astype(np.float32)\n",
    "x = torch.from_numpy(init_images)\n",
    "x = x.to(device)"
   ],
   "metadata": {
    "collapsed": false
   }
  },
  {
   "cell_type": "code",
   "execution_count": null,
   "outputs": [],
   "source": [
    "losses_tv = []\n",
    "losses_res = []\n",
    "losses = []\n",
    "best_l_res = 0\n",
    "best_x = None"
   ],
   "metadata": {
    "collapsed": false
   }
  },
  {
   "cell_type": "code",
   "execution_count": null,
   "outputs": [],
   "source": [
    "lr = 1e-1\n",
    "lamb_tv = 1e-1\n",
    "for i in tqdm_notebook(range(iters)):\n",
    "    x = Variable(x,requires_grad = True)\n",
    "\n",
    "    x_jittered = jitter_image(x,1)\n",
    "\n",
    "    x_jittered = transform(x_jittered.repeat([1, 3, 1, 1]))\n",
    "\n",
    "    fmap = alexnet(x_jittered,layer = insp_layer)\n",
    "\n",
    "    out = encoder(fmap)\n",
    "    l_res = -torch.sum(out.gather(dim=1,index=n_id_torch))\n",
    "    l_tv = loss_TV(x)\n",
    "    loss = l_res + lamb_tv * l_tv\n",
    "\n",
    "    losses_tv.append(l_tv.item())\n",
    "    losses_res.append(l_res.item())\n",
    "    losses.append(loss.item())\n",
    "\n",
    "    print(f'iteration {i}, L_tv = {losses_tv[-1]} , L_res = {losses_res[-1]} , total_loss = {losses[-1]}')\n",
    "    if l_res < best_l_res:\n",
    "        best_x = torch.tensor(x)\n",
    "        best_l_res = l_res\n",
    "\n",
    "    loss.backward()\n",
    "    grad = x.grad.detach()\n",
    "\n",
    "    grad /= grad.std([1, 2, 3], keepdim=True) + 1e-8\n",
    "    x = (x - lr * grad).clamp(0, 1).detach()\n"
   ],
   "metadata": {
    "collapsed": false
   }
  },
  {
   "cell_type": "code",
   "execution_count": null,
   "outputs": [],
   "source": [
    "plt.plot(losses_tv)\n",
    "plt.title(\"TV Loss\")"
   ],
   "metadata": {
    "collapsed": false
   }
  },
  {
   "cell_type": "code",
   "execution_count": null,
   "outputs": [],
   "source": [
    "plt.plot(-np.array(losses_res))\n",
    "plt.title(\"Target neural site response\")"
   ],
   "metadata": {
    "collapsed": false
   }
  },
  {
   "cell_type": "code",
   "execution_count": null,
   "outputs": [],
   "source": [
    "plt.plot(losses)\n",
    "plt.title(\"total loss\")"
   ],
   "metadata": {
    "collapsed": false
   }
  },
  {
   "cell_type": "markdown",
   "source": [
    "## Result images"
   ],
   "metadata": {
    "collapsed": false
   }
  },
  {
   "cell_type": "markdown",
   "metadata": {},
   "source": [
    "# c - One Hot Neural Site Response Maximization"
   ]
  },
  {
   "cell_type": "code",
   "execution_count": null,
   "metadata": {},
   "outputs": [],
   "source": [
    "losses_tv_oh = []\n",
    "losses_res_oh = []\n",
    "losses_oh = []\n",
    "best_l_oh = 0\n",
    "best_x_oh = None"
   ]
  },
  {
   "cell_type": "code",
   "execution_count": null,
   "metadata": {},
   "outputs": [],
   "source": [
    "init_images = np.random.uniform(0, 1, [len(n_id_torch), 1, 299, 299]).astype(np.float32)\n",
    "x = torch.from_numpy(init_images)\n",
    "x = x.to(device)"
   ]
  },
  {
   "cell_type": "code",
   "execution_count": null,
   "metadata": {
    "collapsed": true,
    "jupyter": {
     "outputs_hidden": true
    }
   },
   "outputs": [],
   "source": [
    "lr = 1e-1\n",
    "lamb_tv = 1e-3\n",
    "    \n",
    "# PUT YOUR CODES HERE\n",
    "\"\"\" \n",
    "    In each iteration, you can use jitter_image() function to jitter the input \n",
    "    image, and use transform predefined to apply standard imagnet preprocess\n",
    "    \n",
    "    Example:\n",
    "        >>> x_jittered = jitter_image(x)\n",
    "        >>> x_jittered = transform(x_jitter.repeat([1, 3, 1, 1]))\n",
    "        ...\n",
    "    \n",
    "    In addition, it is better to normalize when updating the input image x\n",
    "    \n",
    "    Example:\n",
    "        >>> grad = x.grad.detach()\n",
    "        >>> grad /= grad.std([1, 2, 3], keepdim=True) + 1e-8\n",
    "        >>> x = (x - lr * grad).clamp(0, 1).detach()    \n",
    "\"\"\"\n",
    "for i in tqdm_notebook(range(iters)):\n",
    "    x = Variable(x,requires_grad = True)\n",
    "\n",
    "    x_jittered = jitter_image(x,max_pixels=5)\n",
    "    x_jittered = transform(x_jittered.repeat([1, 3, 1, 1]))\n",
    "    fmap = alexnet(x_jittered,layer = insp_layer)\n",
    "    out = encoder(fmap)\n",
    "    out = F.softmax(out)\n",
    "    out = out.gather(dim=1,index=n_id_torch)\n",
    "    l_res = -torch.sum(out)\n",
    "    l_tv = loss_TV(x)\n",
    "    loss = l_res + lamb_tv * l_tv\n",
    "    \n",
    "    losses_tv_oh.append(l_tv.item())\n",
    "    losses_res_oh.append(l_res.item())\n",
    "    losses_oh.append(loss.item())\n",
    "    print(f'iteration {i}, L_tv = {losses_tv_oh[-1]} , L_res = {losses_res_oh[-1]} , total_loss = {losses_oh[-1]}')\n",
    "\n",
    "    loss.backward()\n",
    "    \n",
    "    if l_res < best_l_oh:\n",
    "        best_x_oh = torch.tensor(x)\n",
    "        best_l_oh = l_res\n",
    "    grad = x.grad.detach()\n",
    "    grad /= grad.std([1, 2, 3], keepdim=True) + 1e-8\n",
    "    x = (x - lr * grad).clamp(0, 1).detach()\n"
   ]
  },
  {
   "cell_type": "code",
   "execution_count": null,
   "metadata": {},
   "outputs": [],
   "source": [
    "plt.plot(losses_tv_oh)\n",
    "plt.title(\"TV Loss\")"
   ]
  },
  {
   "cell_type": "code",
   "execution_count": null,
   "metadata": {},
   "outputs": [],
   "source": [
    "plt.plot(-np.array(losses_res_oh))\n",
    "plt.title(\"One hot response\")"
   ]
  },
  {
   "cell_type": "code",
   "execution_count": null,
   "metadata": {},
   "outputs": [],
   "source": [
    "plt.plot(losses_oh)\n",
    "plt.title('total loss')"
   ]
  },
  {
   "cell_type": "markdown",
   "metadata": {},
   "source": [
    "## Result images"
   ]
  },
  {
   "cell_type": "code",
   "execution_count": null,
   "metadata": {},
   "outputs": [],
   "source": [
    "# x = x.cpu().detach().numpy()\n",
    "I_oh = best_x_oh.cpu().detach().numpy()\n",
    "for i in range(5):\n",
    "    fig,axes = plt.subplots(nrows = 1 , ncols = 5,  figsize=(20,4))\n",
    "    for j in range (5):\n",
    "        axes[j].imshow(I_oh[5*i+j][0],interpolation='gaussian',cmap='gray')\n",
    "        axes[j].tick_params(labelbottom=False,labelleft=False,left=False,bottom=False)\n",
    "    fig.suptitle(f\"5 generated images for one hot maximization of neural site {n_id[i]}\")\n"
   ]
  },
  {
   "cell_type": "markdown",
   "metadata": {},
   "source": [
    "## Comment"
   ]
  },
  {
   "cell_type": "markdown",
   "metadata": {},
   "source": [
    "Neural sites have diffrent spatial receptive fields due to the spatial masks W_s. One hot response maximization of a target neural site should lead for the apparition of a localized pattern in the image space."
   ]
  },
  {
   "cell_type": "markdown",
   "metadata": {},
   "source": [
    "However most masks were localized at the same spots, on the edges of the feature map"
   ]
  },
  {
   "cell_type": "code",
   "execution_count": null,
   "metadata": {},
   "outputs": [],
   "source": [
    "plt.imshow(encoder.W_s.detach().cpu().numpy()[17],cmap='gray')"
   ]
  },
  {
   "cell_type": "code",
   "execution_count": null,
   "metadata": {},
   "outputs": [],
   "source": [
    "plt.imshow(encoder.W_s.detach().cpu().numpy()[26],cmap='gray')"
   ]
  },
  {
   "cell_type": "code",
   "execution_count": null,
   "metadata": {},
   "outputs": [],
   "source": [
    "plt.imshow(encoder.W_s.detach().cpu().numpy()[13],cmap='gray')"
   ]
  },
  {
   "cell_type": "code",
   "execution_count": null,
   "metadata": {},
   "outputs": [],
   "source": [
    "plt.imshow(encoder.W_s.detach().cpu().numpy()[46],cmap='gray')"
   ]
  },
  {
   "cell_type": "code",
   "execution_count": null,
   "metadata": {},
   "outputs": [],
   "source": [
    "plt.imshow(encoder.W_s.detach().cpu().numpy()[0],cmap='gray')"
   ]
  },
  {
   "cell_type": "code",
   "execution_count": null,
   "metadata": {},
   "outputs": [],
   "source": []
  }
 ],
 "metadata": {
  "kernelspec": {
   "display_name": "Python 3",
   "language": "python",
   "name": "python3"
  },
  "language_info": {
   "codemirror_mode": {
    "name": "ipython",
    "version": 3
   },
   "file_extension": ".py",
   "mimetype": "text/x-python",
   "name": "python",
   "nbconvert_exporter": "python",
   "pygments_lexer": "ipython3",
   "version": "3.7.3"
  },
  "pycharm": {
   "stem_cell": {
    "cell_type": "raw",
    "metadata": {
     "collapsed": false
    },
    "source": []
   }
  },
  "toc": {
   "base_numbering": 1,
   "nav_menu": {
    "height": "12px",
    "width": "252px"
   },
   "number_sections": true,
   "sideBar": true,
   "skip_h1_title": false,
   "title_cell": "Table of Contents",
   "title_sidebar": "Contents",
   "toc_cell": false,
   "toc_position": {},
   "toc_section_display": "block",
   "toc_window_display": false
  }
 },
 "nbformat": 4,
 "nbformat_minor": 4
}
